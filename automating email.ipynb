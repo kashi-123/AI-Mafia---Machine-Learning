{
 "cells": [
  {
   "cell_type": "code",
   "execution_count": 1,
   "metadata": {},
   "outputs": [
    {
     "name": "stdout",
     "output_type": "stream",
     "text": [
      "········\n"
     ]
    }
   ],
   "source": [
    "import smtplib\n",
    "import getpass\n",
    "from email.mime.text import MIMEText\n",
    "\n",
    "def sendemail():\n",
    "    sender='bansalkashish1502@gmail.com'\n",
    "    password=getpass.getpass()\n",
    "    subject='AI Mafia'\n",
    "    msg=\"\"\"\n",
    "      learn.inspire.grow\n",
    "    \"\"\"\n",
    "    \n",
    "    server=smtplib.SMTP('smtp.gmail.com',587)\n",
    "    server.starttls()\n",
    "    server.login(sender,password)\n",
    "    recipients=['bansalkashish1502@gmail.com','kashishbansal1502@gmail.com']\n",
    "    \n",
    "    msg=MIMEText(msg)\n",
    "    msg['Subject']=subject\n",
    "    msg['From']=sender\n",
    "    msg['To']=\", \".join(recipients)\n",
    "    \n",
    "    server.sendmail(sender,recipients,msg.as_string())\n",
    "    \n",
    "    \n",
    "sendemail()\n"
   ]
  }
 ],
 "metadata": {
  "kernelspec": {
   "display_name": "Python 3",
   "language": "python",
   "name": "python3"
  },
  "language_info": {
   "codemirror_mode": {
    "name": "ipython",
    "version": 3
   },
   "file_extension": ".py",
   "mimetype": "text/x-python",
   "name": "python",
   "nbconvert_exporter": "python",
   "pygments_lexer": "ipython3",
   "version": "3.8.3"
  }
 },
 "nbformat": 4,
 "nbformat_minor": 4
}
