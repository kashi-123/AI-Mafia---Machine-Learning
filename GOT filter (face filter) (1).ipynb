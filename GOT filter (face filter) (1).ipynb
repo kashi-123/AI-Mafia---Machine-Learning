{
 "cells": [
  {
   "cell_type": "code",
   "execution_count": 2,
   "metadata": {},
   "outputs": [],
   "source": [
    "import numpy as np\n",
    "import pandas as pd\n",
    "import matplotlib.pyplot as plt\n",
    "import cv2"
   ]
  },
  {
   "cell_type": "code",
   "execution_count": 3,
   "metadata": {},
   "outputs": [],
   "source": [
    "eyes_cascade = cv2.CascadeClassifier(r\"C:\\Users\\Zenbook\\anaconda3\\Lib\\site-packages\\cv2\\data\\haarcascade_eye.xml\")\n",
    "nose_cascade = cv2.CascadeClassifier(r\"C:\\Users\\Zenbook\\Downloads\\Nose18x15.xml\")"
   ]
  },
  {
   "cell_type": "code",
   "execution_count": 4,
   "metadata": {},
   "outputs": [],
   "source": [
    "face_cascade = cv2.CascadeClassifier(r\"C:\\Users\\Zenbook\\anaconda3\\Lib\\site-packages\\cv2\\data\\haarcascade_frontalface_default.xml\")"
   ]
  },
  {
   "cell_type": "code",
   "execution_count": 5,
   "metadata": {},
   "outputs": [
    {
     "name": "stdout",
     "output_type": "stream",
     "text": [
      "(485, 377, 4)\n",
      "(221, 483, 4)\n"
     ]
    }
   ],
   "source": [
    "img = cv2.imread(r\"C:\\Users\\Zenbook\\Downloads\\Before.png\",-1)\n",
    "print(img.shape)\n",
    "glasses = cv2.imread(r\"C:\\Users\\Zenbook\\Downloads\\glasses (1).png\",-1)\n",
    "mustache = cv2.imread(r\"C:\\Users\\Zenbook\\Downloads\\mustache (1).png\",-1)\n",
    "print(glasses.shape)"
   ]
  },
  {
   "cell_type": "code",
   "execution_count": 6,
   "metadata": {},
   "outputs": [
    {
     "name": "stdout",
     "output_type": "stream",
     "text": [
      "[(25, 50, 61, 61), (114, 51, 54, 54)]\n",
      "143 55\n",
      "(221, 483, 4)\n",
      "(110, 171, 4)\n"
     ]
    }
   ],
   "source": [
    "faces = face_cascade.detectMultiScale(img,1.3,5)\n",
    "for(x,y,w,h) in faces:\n",
    "    roi_color = img[y:y+h , x:x+w]\n",
    "    eyes = eyes_cascade.detectMultiScale(roi_color , 1.3,5)\n",
    "    el = []\n",
    "    for(ex,ey,ew,eh) in eyes:\n",
    "        el.append((ex,ey,ew,eh))\n",
    "        roi_eyes = roi_color[ey:ey+eh , ex:ex+ew]\n",
    "        \n",
    "    el = sorted(el, key=lambda a: a[0]) \n",
    "    print(el)\n",
    "    ewf = el[1][0] + el[1][2] - el[0][0]\n",
    "    ehf = el[1][1] + el[1][3] - el[0][1]\n",
    "    \n",
    "    print(ewf,ehf)\n",
    "    \n",
    "    glasses2 = cv2.resize(glasses.copy(),(int(1.2 *ewf) , int(2*ehf)))\n",
    "    print(glasses.shape)\n",
    "    print(glasses2.shape)\n",
    "    gw,gh,gc = glasses2.shape\n",
    "    for i in range(0,gw):\n",
    "        for j in range(0,gh):\n",
    "            if glasses2[i,j][3] != 0:\n",
    "                roi_color[int((el[0][1] + el[1][1]) / 3) + i, int((h - gh) / 2) + j] = glasses2[i, j]\n",
    "               \n",
    "    nose = nose_cascade.detectMultiScale(roi_color, scaleFactor = 1.5, minNeighbors= 5)\n",
    "    for(nx,ny,nw,nh) in nose:\n",
    "        roi_nose = roi_color[ny:ny+nh , nx:nx+nw]\n",
    "        mustache2 = cv2.resize(mustache.copy(), (nw , int(0.5*ny)))\n",
    "        \n",
    "        mw,mh,mc = mustache2.shape\n",
    "        \n",
    "        for i in range(0,mw):\n",
    "            for j in range(0,mh):\n",
    "                if mustache2[i,j][3]!=0:\n",
    "                    roi_color[ny + int(nh/2) + i , nx+j] = mustache2[i,j]\n",
    "        "
   ]
  },
  {
   "cell_type": "code",
   "execution_count": null,
   "metadata": {},
   "outputs": [
    {
     "name": "stdout",
     "output_type": "stream",
     "text": [
      "[[219 202 180]\n",
      " [220 203 181]\n",
      " [219 202 180]\n",
      " ...\n",
      " [ 19  13  13]\n",
      " [ 21  15  15]\n",
      " [ 22  15  15]]\n"
     ]
    }
   ],
   "source": [
    "img = cv2.cvtColor(img, cv2.COLOR_BGRA2BGR)\n",
    "img = cv2.cvtColor(img, cv2.COLOR_BGR2RGB)\n",
    "cv2.imshow(\"image\",img)\n",
    "img = np.reshape(img, (-1, 3))\n",
    "print((img))\n",
    "\n",
    "cv2.waitKey(0)\n",
    "\n",
    "cv2.destroyAllWindows()"
   ]
  },
  {
   "cell_type": "code",
   "execution_count": null,
   "metadata": {},
   "outputs": [],
   "source": []
  }
 ],
 "metadata": {
  "kernelspec": {
   "display_name": "Python 3",
   "language": "python",
   "name": "python3"
  },
  "language_info": {
   "codemirror_mode": {
    "name": "ipython",
    "version": 3
   },
   "file_extension": ".py",
   "mimetype": "text/x-python",
   "name": "python",
   "nbconvert_exporter": "python",
   "pygments_lexer": "ipython3",
   "version": "3.8.3"
  }
 },
 "nbformat": 4,
 "nbformat_minor": 4
}
