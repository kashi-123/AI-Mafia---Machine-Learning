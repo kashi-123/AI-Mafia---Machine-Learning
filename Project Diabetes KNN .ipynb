{
 "cells": [
  {
   "cell_type": "code",
   "execution_count": 1,
   "metadata": {},
   "outputs": [],
   "source": [
    "import pandas as pd\n",
    "import numpy as np\n",
    "import matplotlib.pyplot as plt"
   ]
  },
  {
   "cell_type": "code",
   "execution_count": 2,
   "metadata": {},
   "outputs": [
    {
     "name": "stdout",
     "output_type": "stream",
     "text": [
      "     Pregnancies  Glucose  BloodPressure  SkinThickness  Insulin   BMI  \\\n",
      "0              7      168             88             42      321  38.2   \n",
      "1              8      110             76              0        0  27.8   \n",
      "2              7      147             76              0        0  39.4   \n",
      "3              2      100             66             20       90  32.9   \n",
      "4              4      129             86             20      270  35.1   \n",
      "..           ...      ...            ...            ...      ...   ...   \n",
      "571            2      111             60              0        0  26.2   \n",
      "572            7      187             68             39      304  37.7   \n",
      "573            2      122             60             18      106  29.8   \n",
      "574            4      154             72             29      126  31.3   \n",
      "575            1       88             78             29       76  32.0   \n",
      "\n",
      "     DiabetesPedigreeFunction  Age  \n",
      "0                       0.787   40  \n",
      "1                       0.237   58  \n",
      "2                       0.257   43  \n",
      "3                       0.867   28  \n",
      "4                       0.231   23  \n",
      "..                        ...  ...  \n",
      "571                     0.343   23  \n",
      "572                     0.254   41  \n",
      "573                     0.717   22  \n",
      "574                     0.338   37  \n",
      "575                     0.365   29  \n",
      "\n",
      "[576 rows x 8 columns]\n"
     ]
    }
   ],
   "source": [
    "dfx=pd.read_csv(r'C:\\Users\\Zenbook\\Downloads\\Diabetes_XTrain.csv')\n",
    "dfy=pd.read_csv(r'C:\\Users\\Zenbook\\Downloads\\Diabetes_YTrain.csv')\n",
    "dfx_test=pd.read_csv(r'C:\\Users\\Zenbook\\Downloads\\Diabetes_Xtest.csv')\n",
    "print(dfx)"
   ]
  },
  {
   "cell_type": "code",
   "execution_count": 3,
   "metadata": {},
   "outputs": [
    {
     "name": "stdout",
     "output_type": "stream",
     "text": [
      "[[  7.    168.     88.    ...  38.2     0.787  40.   ]\n",
      " [  8.    110.     76.    ...  27.8     0.237  58.   ]\n",
      " [  7.    147.     76.    ...  39.4     0.257  43.   ]\n",
      " ...\n",
      " [  2.    122.     60.    ...  29.8     0.717  22.   ]\n",
      " [  4.    154.     72.    ...  31.3     0.338  37.   ]\n",
      " [  1.     88.     78.    ...  32.      0.365  29.   ]]\n"
     ]
    }
   ],
   "source": [
    "x_test=dfx_test.values\n",
    "x=dfx.values\n",
    "y=dfy.values\n",
    "y=y.reshape((-1,))\n",
    "print(x)"
   ]
  },
  {
   "cell_type": "code",
   "execution_count": 4,
   "metadata": {},
   "outputs": [
    {
     "name": "stdout",
     "output_type": "stream",
     "text": [
      "Index(['Pregnancies', 'Glucose', 'BloodPressure', 'SkinThickness', 'Insulin',\n",
      "       'BMI', 'DiabetesPedigreeFunction', 'Age'],\n",
      "      dtype='object')\n",
      "[495, 573, 547, 405, 298, 567, 576, 576]\n"
     ]
    },
    {
     "data": {
      "image/png": "[encoded data removed]",
      "text/plain": [
       "<Figure size 432x288 with 1 Axes>"
      ]
     },
     "metadata": {
      "needs_background": "light"
     },
     "output_type": "display_data"
    }
   ],
   "source": [
    "number=dfx.columns\n",
    "print(dfx.columns)\n",
    "n=number.nunique()\n",
    "dfx[number]=dfx[number].replace(0,np.NaN)\n",
    "barg=[]\n",
    "for i in range(n):\n",
    "    sol=dfx[number[i]].value_counts()\n",
    "    sol=np.array(sol)\n",
    "    s=np.sum(sol)\n",
    "    barg.append(s)\n",
    "print(barg) \n",
    "l1=[1,2,3,4,5,6,7,8]\n",
    "l=['Pregnancies','Glucose','BloodPressure','SkinThickness','Insulin','BMI','DiabetesPedigreeFunction','Age']\n",
    "plt.bar(l1,barg,tick_label=l,width=0.8,color=['green','black'])\n",
    "plt.show()"
   ]
  },
  {
   "cell_type": "code",
   "execution_count": 5,
   "metadata": {},
   "outputs": [],
   "source": [
    "def distance(t1,t2):\n",
    "    return np.sqrt(sum(t1-t2)**2)\n",
    "\n",
    "def knn(x,y,querypoint,k=5):\n",
    "    val=[]\n",
    "    for i in range(x.shape[0]):\n",
    "        d=distance(querypoint,x[i])\n",
    "        val.append((d,y[i]))\n",
    "    val=sorted(val)\n",
    "    val=np.array(val)\n",
    "    val=val[:k]\n",
    "    #print(val)\n",
    "    new_val=np.unique(val[:,1],return_counts=True)\n",
    "    index=new_val[1].argmax()\n",
    "    pred=new_val[0][index]\n",
    "    #print(new_val)\n",
    "    return pred"
   ]
  },
  {
   "cell_type": "code",
   "execution_count": 9,
   "metadata": {},
   "outputs": [
    {
     "name": "stdout",
     "output_type": "stream",
     "text": [
      "[1, 0, 0, 0, 0, 0, 1, 0, 0, 0, 0, 1, 1, 0, 0, 0, 0, 0, 0, 1, 0, 0, 0, 0, 0, 0, 0, 0, 0, 0, 0, 1, 1, 0, 0, 0, 1, 0, 0, 1, 0, 0, 0, 0, 1, 0, 0, 1, 0, 1, 1, 1, 1, 0, 0, 1, 0, 0, 0, 0, 1, 0, 0, 0, 1, 0, 0, 0, 0, 0, 0, 0, 1, 0, 1, 1, 0, 0, 0, 0, 0, 1, 0, 0, 0, 0, 1, 1, 0, 1, 1, 1, 0, 0, 1, 1, 0, 0, 0, 0, 0, 0, 0, 0, 0, 0, 0, 0, 0, 0, 0, 0, 0, 0, 0, 0, 0, 0, 0, 1, 0, 1, 0, 1, 0, 0, 0, 0, 0, 0, 0, 0, 1, 0, 0, 0, 1, 1, 1, 0, 0, 0, 0, 1, 1, 0, 0, 1, 0, 0, 1, 1, 1, 0, 0, 1, 1, 1, 0, 0, 0, 1, 0, 0, 0, 0, 0, 0, 0, 0, 0, 1, 0, 0, 1, 0, 0, 1, 1, 1, 1, 1, 1, 0, 0, 0, 0, 1, 0, 0, 0, 0]\n"
     ]
    }
   ],
   "source": [
    "m=x_test.shape[0]\n",
    "ans=[]\n",
    "for j in range(m):\n",
    "    pr=int(knn(x,y,x_test[j]))\n",
    "    ans.append(pr)\n",
    "    \n",
    "print(ans)"
   ]
  }
 ],
 "metadata": {
  "kernelspec": {
   "display_name": "Python 3",
   "language": "python",
   "name": "python3"
  },
  "language_info": {
   "codemirror_mode": {
    "name": "ipython",
    "version": 3
   },
   "file_extension": ".py",
   "mimetype": "text/x-python",
   "name": "python",
   "nbconvert_exporter": "python",
   "pygments_lexer": "ipython3",
   "version": "3.8.3"
  }
 },
 "nbformat": 4,
 "nbformat_minor": 4
}
